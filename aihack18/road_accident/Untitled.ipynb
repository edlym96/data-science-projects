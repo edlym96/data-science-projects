{
 "cells": [
  {
   "cell_type": "code",
   "execution_count": 1,
   "metadata": {},
   "outputs": [],
   "source": [
    "import numpy as np\n",
    "import pandas as pd"
   ]
  },
  {
   "cell_type": "code",
   "execution_count": 2,
   "metadata": {},
   "outputs": [],
   "source": [
    "data = pd.read_csv('./Road Accident/Road-Accident-Data/Road-Accident.csv', low_memory = False)"
   ]
  },
  {
   "cell_type": "code",
   "execution_count": 7,
   "metadata": {},
   "outputs": [],
   "source": [
    "data.replace(-1, np.nan, inplace = True)"
   ]
  },
  {
   "cell_type": "code",
   "execution_count": 8,
   "metadata": {},
   "outputs": [
    {
     "data": {
      "text/plain": [
       "accident_index                                           0\n",
       "vehicle_reference                                        0\n",
       "vehicle_type                                            58\n",
       "towing_and_articulation                                275\n",
       "vehicle_manoeuvre                                      158\n",
       "vehicle_location-restricted_lane                       153\n",
       "junction_location                                       72\n",
       "skidding_and_overturning                               152\n",
       "hit_object_in_carriageway                              139\n",
       "vehicle_leaving_carriageway                            137\n",
       "hit_object_off_carriageway                               2\n",
       "1st_point_of_impact                                    177\n",
       "was_vehicle_left_hand_drive?                          1129\n",
       "journey_purpose_of_driver                               25\n",
       "sex_of_driver                                           20\n",
       "age_of_driver                                        30278\n",
       "age_band_of_driver                                   30278\n",
       "engine_capacity_(cc)                                 77268\n",
       "propulsion_code                                      76704\n",
       "age_of_vehicle                                       87802\n",
       "driver_imd_decile                                   285331\n",
       "driver_home_area_type                                49485\n",
       "vehicle_imd_decile                                  285331\n",
       "NUmber_of_Casualities_unique_to_accident_index           0\n",
       "No_of_Vehicles_involved_unique_to_accident_index         0\n",
       "location_easting_osgr                                   61\n",
       "location_northing_osgr                                  61\n",
       "longitude                                               61\n",
       "latitude                                                61\n",
       "police_force                                             0\n",
       "                                                     ...  \n",
       "road_type                                                0\n",
       "speed_limit                                              0\n",
       "junction_detail                                          2\n",
       "junction_control                                    112867\n",
       "2nd_road_class                                      114004\n",
       "2nd_road_number                                       1492\n",
       "pedestrian_crossing-human_control                      281\n",
       "pedestrian_crossing-physical_facilities                262\n",
       "light_conditions                                         0\n",
       "weather_conditions                                       0\n",
       "road_surface_conditions                                545\n",
       "special_conditions_at_site                             217\n",
       "carriageway_hazards                                    193\n",
       "urban_or_rural_area                                      0\n",
       "did_police_officer_attend_scene_of_accident             20\n",
       "lsoa_of_accident_location                            17079\n",
       "casualty_reference                                   99259\n",
       "casualty_class                                       99259\n",
       "sex_of_casualty                                      99320\n",
       "age_of_casualty                                     102250\n",
       "age_band_of_casualty                                102250\n",
       "casualty_severity                                    99259\n",
       "pedestrian_location                                  99261\n",
       "pedestrian_movement                                  99261\n",
       "car_passenger                                        99635\n",
       "bus_or_coach_passenger                               99284\n",
       "pedestrian_road_maintenance_worker                   99412\n",
       "casualty_type                                        99259\n",
       "casualty_home_area_type                             120411\n",
       "casualty_imd_decile                                 136010\n",
       "Length: 70, dtype: int64"
      ]
     },
     "execution_count": 8,
     "metadata": {},
     "output_type": "execute_result"
    }
   ],
   "source": [
    "data.isna().sum()"
   ]
  },
  {
   "cell_type": "code",
   "execution_count": null,
   "metadata": {},
   "outputs": [],
   "source": []
  },
  {
   "cell_type": "code",
   "execution_count": 5,
   "metadata": {},
   "outputs": [
    {
     "data": {
      "text/plain": [
       "(110793, 50)"
      ]
     },
     "execution_count": 5,
     "metadata": {},
     "output_type": "execute_result"
    }
   ],
   "source": [
    "null_data = data[data.isnull().any(axis=1)]\n",
    "null_data=null_data.dropna(axis = 1, how='any')\n",
    "null_data.shape"
   ]
  },
  {
   "cell_type": "code",
   "execution_count": 6,
   "metadata": {},
   "outputs": [
    {
     "data": {
      "text/plain": [
       "(174538, 70)"
      ]
     },
     "execution_count": 6,
     "metadata": {},
     "output_type": "execute_result"
    }
   ],
   "source": [
    "not_null_data = data.dropna()\n",
    "not_null_data.shape"
   ]
  },
  {
   "cell_type": "code",
   "execution_count": null,
   "metadata": {},
   "outputs": [],
   "source": []
  },
  {
   "cell_type": "code",
   "execution_count": null,
   "metadata": {},
   "outputs": [],
   "source": []
  }
 ],
 "metadata": {
  "kernelspec": {
   "display_name": "Python 3",
   "language": "python",
   "name": "python3"
  },
  "language_info": {
   "codemirror_mode": {
    "name": "ipython",
    "version": 3
   },
   "file_extension": ".py",
   "mimetype": "text/x-python",
   "name": "python",
   "nbconvert_exporter": "python",
   "pygments_lexer": "ipython3",
   "version": "3.6.6"
  }
 },
 "nbformat": 4,
 "nbformat_minor": 2
}
