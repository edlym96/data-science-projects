{
 "cells": [
  {
   "cell_type": "code",
   "execution_count": 1,
   "metadata": {},
   "outputs": [],
   "source": [
    "import pandas as pd"
   ]
  },
  {
   "cell_type": "code",
   "execution_count": 2,
   "metadata": {},
   "outputs": [],
   "source": [
    "%matplotlib inline"
   ]
  },
  {
   "cell_type": "code",
   "execution_count": 3,
   "metadata": {},
   "outputs": [],
   "source": [
    "from sklearn import linear_model, datasets\n",
    "import numpy as np"
   ]
  },
  {
   "cell_type": "code",
   "execution_count": 4,
   "metadata": {},
   "outputs": [],
   "source": [
    "from sklearn.metrics import accuracy_score, mean_squared_error\n",
    "import matplotlib.pyplot as plt"
   ]
  },
  {
   "cell_type": "code",
   "execution_count": 5,
   "metadata": {},
   "outputs": [
    {
     "name": "stderr",
     "output_type": "stream",
     "text": [
      "C:\\Users\\User\\Miniconda3\\envs\\py36\\lib\\site-packages\\IPython\\core\\interactiveshell.py:2785: DtypeWarning: Columns (42,43,45,47,49,88) have mixed types. Specify dtype option on import or set low_memory=False.\n",
      "  interactivity=interactivity, compiler=compiler, result=result)\n"
     ]
    }
   ],
   "source": [
    "file = pd.read_csv('../brooklyn-housing/brooklyntrainsetconvert.csv')"
   ]
  },
  {
   "cell_type": "code",
   "execution_count": 6,
   "metadata": {},
   "outputs": [
    {
     "data": {
      "text/html": [
       "<div>\n",
       "<style scoped>\n",
       "    .dataframe tbody tr th:only-of-type {\n",
       "        vertical-align: middle;\n",
       "    }\n",
       "\n",
       "    .dataframe tbody tr th {\n",
       "        vertical-align: top;\n",
       "    }\n",
       "\n",
       "    .dataframe thead th {\n",
       "        text-align: right;\n",
       "    }\n",
       "</style>\n",
       "<table border=\"1\" class=\"dataframe\">\n",
       "  <thead>\n",
       "    <tr style=\"text-align: right;\">\n",
       "      <th></th>\n",
       "      <th>Unnamed: 0</th>\n",
       "      <th>Unnamed: 0.1</th>\n",
       "      <th>X</th>\n",
       "      <th>borough</th>\n",
       "      <th>neighborhood</th>\n",
       "      <th>building_class_category</th>\n",
       "      <th>tax_class</th>\n",
       "      <th>block</th>\n",
       "      <th>lot</th>\n",
       "      <th>easement</th>\n",
       "      <th>...</th>\n",
       "      <th>EDesigNum</th>\n",
       "      <th>APPBBL</th>\n",
       "      <th>APPDate</th>\n",
       "      <th>PLUTOMapID</th>\n",
       "      <th>FIRM07_FLA</th>\n",
       "      <th>PFIRM15_FL</th>\n",
       "      <th>Version</th>\n",
       "      <th>MAPPLUTO_F</th>\n",
       "      <th>SHAPE_Leng</th>\n",
       "      <th>SHAPE_Area</th>\n",
       "    </tr>\n",
       "  </thead>\n",
       "  <tbody>\n",
       "    <tr>\n",
       "      <th>0</th>\n",
       "      <td>0</td>\n",
       "      <td>3</td>\n",
       "      <td>3</td>\n",
       "      <td>3</td>\n",
       "      <td>BROOKLYN HEIGHTS</td>\n",
       "      <td>0</td>\n",
       "      <td>4</td>\n",
       "      <td>204</td>\n",
       "      <td>1</td>\n",
       "      <td>NaN</td>\n",
       "      <td>...</td>\n",
       "      <td>NaN</td>\n",
       "      <td>0.0</td>\n",
       "      <td>NaN</td>\n",
       "      <td>1.0</td>\n",
       "      <td>NaN</td>\n",
       "      <td>NaN</td>\n",
       "      <td>17V1.1</td>\n",
       "      <td>0.0</td>\n",
       "      <td>890.718521</td>\n",
       "      <td>34656.447240</td>\n",
       "    </tr>\n",
       "    <tr>\n",
       "      <th>1</th>\n",
       "      <td>1</td>\n",
       "      <td>6</td>\n",
       "      <td>6</td>\n",
       "      <td>3</td>\n",
       "      <td>WILLIAMSBURG-SOUTH</td>\n",
       "      <td>1</td>\n",
       "      <td>4</td>\n",
       "      <td>2428</td>\n",
       "      <td>1</td>\n",
       "      <td>NaN</td>\n",
       "      <td>...</td>\n",
       "      <td>E-337</td>\n",
       "      <td>0.0</td>\n",
       "      <td>NaN</td>\n",
       "      <td>1.0</td>\n",
       "      <td>NaN</td>\n",
       "      <td>NaN</td>\n",
       "      <td>17V1.1</td>\n",
       "      <td>0.0</td>\n",
       "      <td>1006.337999</td>\n",
       "      <td>58564.864312</td>\n",
       "    </tr>\n",
       "    <tr>\n",
       "      <th>2</th>\n",
       "      <td>2</td>\n",
       "      <td>7</td>\n",
       "      <td>7</td>\n",
       "      <td>3</td>\n",
       "      <td>BROOKLYN HEIGHTS</td>\n",
       "      <td>2</td>\n",
       "      <td>4</td>\n",
       "      <td>250</td>\n",
       "      <td>44</td>\n",
       "      <td>NaN</td>\n",
       "      <td>...</td>\n",
       "      <td>NaN</td>\n",
       "      <td>0.0</td>\n",
       "      <td>NaN</td>\n",
       "      <td>1.0</td>\n",
       "      <td>NaN</td>\n",
       "      <td>NaN</td>\n",
       "      <td>17V1.1</td>\n",
       "      <td>0.0</td>\n",
       "      <td>460.031680</td>\n",
       "      <td>12947.145471</td>\n",
       "    </tr>\n",
       "    <tr>\n",
       "      <th>3</th>\n",
       "      <td>3</td>\n",
       "      <td>10</td>\n",
       "      <td>10</td>\n",
       "      <td>3</td>\n",
       "      <td>NAVY YARD</td>\n",
       "      <td>3</td>\n",
       "      <td>4</td>\n",
       "      <td>1876</td>\n",
       "      <td>1</td>\n",
       "      <td>NaN</td>\n",
       "      <td>...</td>\n",
       "      <td>NaN</td>\n",
       "      <td>0.0</td>\n",
       "      <td>NaN</td>\n",
       "      <td>1.0</td>\n",
       "      <td>NaN</td>\n",
       "      <td>NaN</td>\n",
       "      <td>17V1.1</td>\n",
       "      <td>0.0</td>\n",
       "      <td>1565.914773</td>\n",
       "      <td>118754.785737</td>\n",
       "    </tr>\n",
       "    <tr>\n",
       "      <th>4</th>\n",
       "      <td>4</td>\n",
       "      <td>11</td>\n",
       "      <td>11</td>\n",
       "      <td>3</td>\n",
       "      <td>WILLIAMSBURG-NORTH</td>\n",
       "      <td>4</td>\n",
       "      <td>4</td>\n",
       "      <td>2287</td>\n",
       "      <td>16</td>\n",
       "      <td>NaN</td>\n",
       "      <td>...</td>\n",
       "      <td>E-138</td>\n",
       "      <td>0.0</td>\n",
       "      <td>NaN</td>\n",
       "      <td>1.0</td>\n",
       "      <td>1.0</td>\n",
       "      <td>1.0</td>\n",
       "      <td>17V1.1</td>\n",
       "      <td>0.0</td>\n",
       "      <td>1031.123666</td>\n",
       "      <td>63814.710780</td>\n",
       "    </tr>\n",
       "  </tbody>\n",
       "</table>\n",
       "<p>5 rows × 113 columns</p>\n",
       "</div>"
      ],
      "text/plain": [
       "   Unnamed: 0  Unnamed: 0.1   X  borough        neighborhood  \\\n",
       "0           0             3   3        3    BROOKLYN HEIGHTS   \n",
       "1           1             6   6        3  WILLIAMSBURG-SOUTH   \n",
       "2           2             7   7        3    BROOKLYN HEIGHTS   \n",
       "3           3            10  10        3           NAVY YARD   \n",
       "4           4            11  11        3  WILLIAMSBURG-NORTH   \n",
       "\n",
       "   building_class_category tax_class  block  lot  easement      ...        \\\n",
       "0                        0         4    204    1       NaN      ...         \n",
       "1                        1         4   2428    1       NaN      ...         \n",
       "2                        2         4    250   44       NaN      ...         \n",
       "3                        3         4   1876    1       NaN      ...         \n",
       "4                        4         4   2287   16       NaN      ...         \n",
       "\n",
       "  EDesigNum APPBBL APPDate  PLUTOMapID  FIRM07_FLA  PFIRM15_FL  Version  \\\n",
       "0       NaN    0.0     NaN         1.0         NaN         NaN   17V1.1   \n",
       "1     E-337    0.0     NaN         1.0         NaN         NaN   17V1.1   \n",
       "2       NaN    0.0     NaN         1.0         NaN         NaN   17V1.1   \n",
       "3       NaN    0.0     NaN         1.0         NaN         NaN   17V1.1   \n",
       "4     E-138    0.0     NaN         1.0         1.0         1.0   17V1.1   \n",
       "\n",
       "   MAPPLUTO_F   SHAPE_Leng     SHAPE_Area  \n",
       "0         0.0   890.718521   34656.447240  \n",
       "1         0.0  1006.337999   58564.864312  \n",
       "2         0.0   460.031680   12947.145471  \n",
       "3         0.0  1565.914773  118754.785737  \n",
       "4         0.0  1031.123666   63814.710780  \n",
       "\n",
       "[5 rows x 113 columns]"
      ]
     },
     "execution_count": 6,
     "metadata": {},
     "output_type": "execute_result"
    }
   ],
   "source": [
    "file.head()"
   ]
  },
  {
   "cell_type": "code",
   "execution_count": null,
   "metadata": {},
   "outputs": [],
   "source": []
  },
  {
   "cell_type": "code",
   "execution_count": null,
   "metadata": {
    "scrolled": false
   },
   "outputs": [],
   "source": []
  },
  {
   "cell_type": "code",
   "execution_count": 7,
   "metadata": {},
   "outputs": [
    {
     "ename": "AttributeError",
     "evalue": "'NoneType' object has no attribute 'head'",
     "output_type": "error",
     "traceback": [
      "\u001b[1;31m---------------------------------------------------------------------------\u001b[0m",
      "\u001b[1;31mAttributeError\u001b[0m                            Traceback (most recent call last)",
      "\u001b[1;32m<ipython-input-7-afaa756e67c7>\u001b[0m in \u001b[0;36m<module>\u001b[1;34m()\u001b[0m\n\u001b[0;32m      1\u001b[0m \u001b[0mcopy\u001b[0m \u001b[1;33m=\u001b[0m \u001b[0mfile\u001b[0m\u001b[1;33m.\u001b[0m\u001b[0mcopy\u001b[0m\u001b[1;33m(\u001b[0m\u001b[0mdeep\u001b[0m\u001b[1;33m=\u001b[0m\u001b[1;32mTrue\u001b[0m\u001b[1;33m)\u001b[0m\u001b[1;33m\u001b[0m\u001b[0m\n\u001b[0;32m      2\u001b[0m \u001b[0mcopy\u001b[0m \u001b[1;33m=\u001b[0m \u001b[0mcopy\u001b[0m\u001b[1;33m.\u001b[0m\u001b[0mdrop\u001b[0m\u001b[1;33m(\u001b[0m\u001b[1;33m[\u001b[0m\u001b[1;34m'apartment_number'\u001b[0m\u001b[1;33m,\u001b[0m \u001b[1;34m'APPBBL'\u001b[0m\u001b[1;33m,\u001b[0m \u001b[1;34m'Unnamed: 0'\u001b[0m\u001b[1;33m,\u001b[0m \u001b[1;34m'SHAPE_Leng'\u001b[0m\u001b[1;33m,\u001b[0m \u001b[1;34m'SHAPE_Area'\u001b[0m\u001b[1;33m,\u001b[0m \u001b[1;34m'Sanborn'\u001b[0m\u001b[1;33m,\u001b[0m\u001b[1;34m'X'\u001b[0m\u001b[1;33m]\u001b[0m\u001b[1;33m,\u001b[0m \u001b[0maxis\u001b[0m\u001b[1;33m=\u001b[0m\u001b[1;36m1\u001b[0m\u001b[1;33m,\u001b[0m \u001b[0minplace\u001b[0m \u001b[1;33m=\u001b[0m \u001b[1;32mTrue\u001b[0m\u001b[1;33m)\u001b[0m\u001b[1;33m\u001b[0m\u001b[0m\n\u001b[1;32m----> 3\u001b[1;33m \u001b[0mcopy\u001b[0m\u001b[1;33m.\u001b[0m\u001b[0mhead\u001b[0m\u001b[1;33m(\u001b[0m\u001b[1;33m)\u001b[0m\u001b[1;33m\u001b[0m\u001b[0m\n\u001b[0m",
      "\u001b[1;31mAttributeError\u001b[0m: 'NoneType' object has no attribute 'head'"
     ]
    }
   ],
   "source": [
    "copy = file.copy(deep=True)\n",
    "copy = copy.drop(['apartment_number', 'APPBBL', 'Unnamed: 0', 'SHAPE_Leng', 'SHAPE_Area', 'Sanborn','X'], axis=1, inplace = True)\n",
    "copy.head()\n"
   ]
  },
  {
   "cell_type": "code",
   "execution_count": null,
   "metadata": {},
   "outputs": [],
   "source": [
    "copy = copy[copy.sale_price != 0]\n",
    "copy = copy.loc[:, copy.isnull().mean() < .8]"
   ]
  },
  {
   "cell_type": "code",
   "execution_count": null,
   "metadata": {},
   "outputs": [],
   "source": [
    "copy.dropna(inplace = True)\n",
    "len(copy)"
   ]
  },
  {
   "cell_type": "code",
   "execution_count": null,
   "metadata": {},
   "outputs": [],
   "source": [
    "df_train_labels = copy['sale_price']\n",
    "train_features = copy.drop(['sale_price'], axis = 1)\n",
    "df_train_features = train_features.select_dtypes(include=['int','float'])\n",
    "# train_features.head()\n",
    "# print(len(train_features))"
   ]
  },
  {
   "cell_type": "code",
   "execution_count": null,
   "metadata": {},
   "outputs": [],
   "source": [
    "def brute_force_reg(data_in, target, split = 0.8):\n",
    "    num_row = int(np.ma.size(data_in, 0) * split)\n",
    "    num_col = int(np.ma.size(data_in, 1))\n",
    "    train_x = data_in[0:num_row]\n",
    "    train_y = target[0:num_row]\n",
    "    test_x = data_in[num_row:]\n",
    "    test_y = target[num_row:]\n",
    "    \n",
    "    '''\n",
    "    # column-wise regression\n",
    "    x_entries = []\n",
    "    y_entries = []\n",
    "    count = -1\n",
    "    for column_x in train_x:\n",
    "        count = count + 1\n",
    "        reg = linear_model.LinearRegression()\n",
    "        reg.fit(train_x[column_x].values.reshape(-1, 1), train_y.values.reshape(-1, 1))\n",
    "        pred = reg.predict(test_x[column_x].values.reshape(-1, 1))\n",
    "        print(\"{} {}\".format(column_x, mean_squared_error(y_pred=pred, y_true=test_y)))\n",
    "        x_entries.append(count)\n",
    "        y_entries.append(mean_squared_error(y_pred=pred, y_true=test_y))\n",
    "\n",
    "    print(x_entries)\n",
    "    print(y_entries)\n",
    "    print(\"Min Min Sqr Error: {}\".format(min(y_entries)))\n",
    "    plt.figure()\n",
    "    plt.plot(x_entries, y_entries)\n",
    "    '''\n",
    "    \n",
    "    # overall regression\n",
    "#     reg = linear_model.LinearRegression()\n",
    "#     reg.fit(train_x.values.reshape(-1, 1), train_y.values.reshape(-1, 1))\n",
    "#     pred = reg.predict(test_x[column_x].values.reshape(-1, 1))\n",
    "#     print(\"{} {}\".format(column_x, mean_squared_error(y_pred=pred, y_true=test_y)))"
   ]
  },
  {
   "cell_type": "code",
   "execution_count": null,
   "metadata": {},
   "outputs": [],
   "source": []
  },
  {
   "cell_type": "code",
   "execution_count": null,
   "metadata": {},
   "outputs": [],
   "source": [
    "# brute_force_reg(test_data, target_data)"
   ]
  },
  {
   "cell_type": "code",
   "execution_count": null,
   "metadata": {},
   "outputs": [],
   "source": [
    "df_train_features = np.array(df_train_features)\n",
    "df_train_labels = np.array(df_train_labels)\n",
    "test_features = df_train_features[-10000:,:]\n",
    "test_labels = df_train_labels[-10000:]\n",
    "df_train_labels = df_train_labels[:50000]\n",
    "df_train_features = df_train_features[:50000,:]"
   ]
  },
  {
   "cell_type": "code",
   "execution_count": null,
   "metadata": {},
   "outputs": [],
   "source": [
    "# Import the model we are using\n",
    "from sklearn.ensemble import RandomForestRegressor\n",
    "# Instantiate model with 1000 decision trees\n",
    "rf = RandomForestRegressor(n_estimators = 1000, random_state = 0, max_depth = 2)\n",
    "# Train the model on training data\n",
    "rf.fit(df_train_features, df_train_labels)\n",
    "print(\"DONE\")"
   ]
  },
  {
   "cell_type": "code",
   "execution_count": null,
   "metadata": {},
   "outputs": [],
   "source": [
    "print(rf.feature_importances_)"
   ]
  },
  {
   "cell_type": "code",
   "execution_count": null,
   "metadata": {},
   "outputs": [],
   "source": [
    "train_features.head()"
   ]
  },
  {
   "cell_type": "code",
   "execution_count": null,
   "metadata": {},
   "outputs": [],
   "source": [
    "len(test_features)\n",
    "predictions = rf.predict(test_features)\n",
    "errors = abs(predictions - test_labels)\n",
    "print('Mean Absolute Error:', round(np.mean(errors), 2))"
   ]
  },
  {
   "cell_type": "code",
   "execution_count": null,
   "metadata": {},
   "outputs": [],
   "source": []
  }
 ],
 "metadata": {
  "kernelspec": {
   "display_name": "Python 3",
   "language": "python",
   "name": "python3"
  },
  "language_info": {
   "codemirror_mode": {
    "name": "ipython",
    "version": 3
   },
   "file_extension": ".py",
   "mimetype": "text/x-python",
   "name": "python",
   "nbconvert_exporter": "python",
   "pygments_lexer": "ipython3",
   "version": "3.6.6"
  }
 },
 "nbformat": 4,
 "nbformat_minor": 2
}
